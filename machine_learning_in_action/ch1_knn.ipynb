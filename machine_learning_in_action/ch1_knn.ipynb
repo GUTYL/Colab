{
  "nbformat": 4,
  "nbformat_minor": 0,
  "metadata": {
    "colab": {
      "name": "ch1_knn.ipynb",
      "provenance": [],
      "authorship_tag": "ABX9TyPBu/GNNfgzrEzZXOduJRdn",
      "include_colab_link": true
    },
    "kernelspec": {
      "name": "python3",
      "display_name": "Python 3"
    }
  },
  "cells": [
    {
      "cell_type": "markdown",
      "metadata": {
        "id": "view-in-github",
        "colab_type": "text"
      },
      "source": [
        "<a href=\"https://colab.research.google.com/github/GUTYL/Colab/blob/main/machine_learning_in_action/ch1_knn.ipynb\" target=\"_parent\"><img src=\"https://colab.research.google.com/assets/colab-badge.svg\" alt=\"Open In Colab\"/></a>"
      ]
    },
    {
      "cell_type": "code",
      "metadata": {
        "id": "w89iG6wIVwhL"
      },
      "source": [
        "import numpy as np\n",
        "import operator"
      ],
      "execution_count": 2,
      "outputs": []
    },
    {
      "cell_type": "code",
      "metadata": {
        "id": "VEivtG1-U0pE"
      },
      "source": [
        "def createDataSet():\n",
        "  group = np.array([[1.0,1.1], [1.0,1.0], [0,0], [0,0.1]])\n",
        "  labels = ['A', 'A', 'B', 'B']\n",
        "  return group, label"
      ],
      "execution_count": 3,
      "outputs": []
    },
    {
      "cell_type": "code",
      "metadata": {
        "id": "FVGrPBLWWUK_"
      },
      "source": [
        ""
      ],
      "execution_count": null,
      "outputs": []
    }
  ]
}